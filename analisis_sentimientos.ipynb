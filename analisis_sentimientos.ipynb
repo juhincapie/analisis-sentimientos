{
 "cells": [
  {
   "cell_type": "markdown",
   "metadata": {},
   "source": [
    "# Análisis de sentimientos\n",
    "\n",
    "__Qué necesitarás?__\n",
    "\n",
    "* pandas : librería de manipulación y análisis de datos de código abierto rápida, potente, flexible y fácil de usar, construida sobre el lenguaje de programación Python\n",
    "* numpy : paquete fundamental para la computación científica en Python. Es una biblioteca de Python que proporciona un objeto de matriz multidimensional, varios objetos derivados (como matrices y matrices enmascaradas) y una variedad de rutinas para operaciones rápidas en matrices, que incluyen manipulación matemática, lógica, clasificación, selección, transformadas discretas de Fourier, álgebra lineal básica, operaciones estadísticas básicas, simulación aleatoria ...\n",
    "* train_test_split: función de sklearn.model_selection que permite particionar la data de entrenamiento y testeo para fines de entrenamiento en modelos de ML e IA\n",
    "* test_size: patron para muestra de prueba. El dato se define entre 0 y 1\n",
    "* random_state: semilla para generador de números aleatorios, lo que permite reporducir la función y garantizar la constancia del resultado obtenido\n",
    "* CountVectorizer : función de la librería de sklearn.feature_extraction.text, la cual permite la extracción de características de texto ---> https://qu4nt.github.io/sklearn-doc-es/modules/generated/sklearn.feature_extraction.text.CountVectorizer.html\n",
    "* token_pattern : Expresión regular que denota lo que constituye un «token», sólo se utiliza si analyzer ---> {“word”, “char”, “char_wb”} o callable, default=”word”\n",
    "* lowercase : Convierte todos los caracteres en minúsculas antes de la tokenización\n",
    "* PorterStemmer : función de nltk.stem.porter la cual permite eliminar los afijos morfológicos de las palabras, dejando solo la raíz de la palabra ----> https://www.nltk.org/howto/stem.html\n",
    "* build_analyzer : Devuelve un invocable para procesar los datos de entrada. Los identificadores invocables que manejan el preprocesamiento, la tokenización y la generación de n-gramas (subsecuencia de n elementos de una secuencia dada).\n",
    "* GridSearchCV : función de sklearn.model_selection conocida como instancia que permite realizar busqueda exhaustiva sobre valores de parámetros específicos para un estimador ---> https://scikit-learn.org/stable/modules/generated/sklearn.model_selection.GridSearchCV.html \n",
    "* estimator (GridSearchCV) : implementa la interfaz del estimador scikit-learn\n",
    "* param_grid (GridSearchCV) : Diccionario con nombres de parámetros ( str) como claves y listas de configuraciones de parámetros para probar como valores, o una lista de dichos diccionarios, en cuyo caso se exploran las cuadrículas que abarca cada diccionario de la lista. Esto permite buscar en cualquier secuencia de ajustes de parámetros.\n",
    "* cv (GridSearchCV) : Generador de validación cruzada. Determina la estrategia de división de validación cruzada. Algunas de las entradas posibles para cv son: Ninguno, para usar la validación cruzada de 5 veces predeterminada; entero, para especificar el número de pliegues.\n",
    "* scoring (GridSearchCV) : Estrategia para evaluar el rendimiento del modelo de validación cruzada en el conjunto de prueba.\n",
    "* refit (GridSearchCV) :  booleano que realiza o no ajuste de un estimador utilizando los mejores parámetros encontrados en todo el conjunto de datos\n",
    "* return_train_score (GridSearchCV) : booleano que devuelve puntajes de entrenamiento\n",
    "* Pipeline : función de sklearn.pipeline que actua como canalizador para ensamblar varios pasos que se pueden validar de forma cruzada mientras se configuran diferentes parámetros ----> https://scikit-learn.org/stable/modules/generated/sklearn.pipeline.Pipeline.html \n",
    "* BernoulliNB : función de sklearn.naive_bayes conocido como clasificador Naive Bayes para modelos multivariados de Bernoulli. BernoulliNB está diseñado para características binarias/booleanas ----> https://scikit-learn.org/stable/modules/generated/sklearn.naive_bayes.BernoulliNB.html \n",
    "* confusion_matrix : función de sklearn.metrics que permite evaluar la precisión de una clasificación.\n"
   ]
  },
  {
   "cell_type": "markdown",
   "metadata": {},
   "source": []
  }
 ],
 "metadata": {
  "kernelspec": {
   "display_name": "Python 3.9.7 64-bit",
   "language": "python",
   "name": "python3"
  },
  "language_info": {
   "name": "python",
   "version": "3.9.7"
  },
  "orig_nbformat": 4,
  "vscode": {
   "interpreter": {
    "hash": "96724d6b9637267567451acd5db668b6a362e9d39d8edb46a4de17ef5590deaf"
   }
  }
 },
 "nbformat": 4,
 "nbformat_minor": 2
}
